{
 "cells": [
  {
   "cell_type": "code",
   "execution_count": 2,
   "id": "c4d542da",
   "metadata": {},
   "outputs": [],
   "source": [
    "import numpy as np \n",
    "import time\n",
    "import matplotlib.pyplot as plt\n",
    "import cv2"
   ]
  },
  {
   "cell_type": "code",
   "execution_count": 11,
   "id": "7fe1e5a9",
   "metadata": {},
   "outputs": [],
   "source": [
    "pts1 = np.float32([[50, 50],\n",
    "                   [200, 50],\n",
    "                   [50, 200]])\n",
    "\n",
    "\n",
    "pts2 = np.float32([[10, 100],\n",
    "                   [200, 50],\n",
    "                   [100, 250]])\n",
    "\n",
    "affine_transform = cv2.getAffineTransform(pts1,pts2)"
   ]
  },
  {
   "cell_type": "code",
   "execution_count": 12,
   "id": "f056446e",
   "metadata": {},
   "outputs": [
    {
     "data": {
      "text/plain": [
       "array([[  1.26666667,   0.6       , -83.33333333],\n",
       "       [ -0.33333333,   1.        ,  66.66666667]])"
      ]
     },
     "execution_count": 12,
     "metadata": {},
     "output_type": "execute_result"
    }
   ],
   "source": [
    "affine_transform"
   ]
  },
  {
   "cell_type": "code",
   "execution_count": null,
   "id": "dd982e92",
   "metadata": {},
   "outputs": [],
   "source": []
  }
 ],
 "metadata": {
  "kernelspec": {
   "display_name": "Python 3 (ipykernel)",
   "language": "python",
   "name": "python3"
  },
  "language_info": {
   "codemirror_mode": {
    "name": "ipython",
    "version": 3
   },
   "file_extension": ".py",
   "mimetype": "text/x-python",
   "name": "python",
   "nbconvert_exporter": "python",
   "pygments_lexer": "ipython3",
   "version": "3.7.16"
  }
 },
 "nbformat": 4,
 "nbformat_minor": 5
}
